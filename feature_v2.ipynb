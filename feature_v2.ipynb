{
 "cells": [
  {
   "cell_type": "code",
   "execution_count": 1,
   "id": "da53df0b",
   "metadata": {},
   "outputs": [],
   "source": [
    "import logging\n",
    "\n",
    "import numpy as np\n",
    "import toad\n",
    "import pandas as pd\n",
    "from sklearn.model_selection import StratifiedKFold, ParameterGrid\n",
    "from sklearn.metrics import roc_auc_score\n",
    "from lightgbm import LGBMClassifier\n",
    "\n",
    "import config"
   ]
  },
  {
   "cell_type": "code",
   "execution_count": 2,
   "id": "7512cb0c",
   "metadata": {},
   "outputs": [],
   "source": [
    "logger = logging.getLogger(__name__)\n",
    "logger.setLevel(logging.DEBUG)\n",
    "formatter = logging.Formatter()\n",
    "sh = logging.StreamHandler()\n",
    "sh.setFormatter(formatter)\n",
    "logger.addHandler(sh)\n",
    "\n",
    "is_eda = False\n",
    "is_gridsearch = False"
   ]
  },
  {
   "cell_type": "code",
   "execution_count": 3,
   "id": "6f20a618",
   "metadata": {},
   "outputs": [],
   "source": [
    "# 读数据\n",
    "train_public = pd.read_csv(config.TRAIN_PUBLIC_PATH)\n",
    "train_internet = pd.read_csv(config.TRAIN_INTERNET_PATH)\n",
    "test_public = pd.read_csv(config.TEST_PUBLIC_PATH)"
   ]
  },
  {
   "cell_type": "code",
   "execution_count": 4,
   "id": "6cab834c",
   "metadata": {},
   "outputs": [],
   "source": [
    "# 标签列重命名\n",
    "train_internet = train_internet.rename(columns={'is_default': 'isDefault'})"
   ]
  },
  {
   "cell_type": "code",
   "execution_count": 5,
   "id": "51a8d289",
   "metadata": {},
   "outputs": [],
   "source": [
    "# 缺失值求平均，work_year先转换然后再平均\n",
    "def work_year_apply(x):\n",
    "    if x == '< 1 year':\n",
    "        return 1\n",
    "    elif x == '1 year':\n",
    "        return 2\n",
    "    elif x == '2 years':\n",
    "        return 3\n",
    "    elif x == '3 years':\n",
    "        return 4\n",
    "    elif x == '4 years':\n",
    "        return 5\n",
    "    elif x == '5 years':\n",
    "        return 6\n",
    "    elif x == '6 years':\n",
    "        return 7\n",
    "    elif x == '7 years':\n",
    "        return 8\n",
    "    elif x == '8 years':\n",
    "        return 9\n",
    "    elif x == '9 years':\n",
    "        return 10\n",
    "    elif x == '10+ years':\n",
    "        return 11"
   ]
  },
  {
   "cell_type": "code",
   "execution_count": 6,
   "id": "9357ef35",
   "metadata": {},
   "outputs": [],
   "source": [
    "# 对work_year的转换处理\n",
    "train_public['work_year'] = train_public['work_year'].apply(work_year_apply)\n",
    "train_internet['work_year'] = train_internet['work_year'].apply(work_year_apply)\n",
    "test_public['work_year'] = test_public['work_year'].apply(work_year_apply)\n",
    "\n",
    "train_internet['work_year'] = train_internet['work_year'].fillna(train_internet['work_year'].median())\n",
    "test_public['work_year'] = test_public['work_year'].fillna(test_public['work_year'].median())"
   ]
  },
  {
   "cell_type": "code",
   "execution_count": 7,
   "id": "c88ef705",
   "metadata": {},
   "outputs": [
    {
     "name": "stderr",
     "output_type": "stream",
     "text": [
      "36\n"
     ]
    }
   ],
   "source": [
    "# 特征工程\n",
    "## 找相同的特征\n",
    "common_cols = []\n",
    "for col in train_public.columns:\n",
    "    if col in train_internet.columns:\n",
    "        common_cols.append(col)\n",
    "logger.info(len(common_cols))\n",
    "\n",
    "## 只取相同的列\n",
    "train_public_less = train_public.loc[:, common_cols]\n",
    "train_internet_less = train_internet.loc[:, common_cols]\n",
    "test_public_less = test_public.loc[:, common_cols[:-1]]"
   ]
  },
  {
   "cell_type": "code",
   "execution_count": 8,
   "id": "fd9e0e45",
   "metadata": {},
   "outputs": [],
   "source": [
    "# 补充train_public_less的缺失数据\n",
    "# work_year用中位数填补\n",
    "train_public_less['work_year'] = train_public_less['work_year'].fillna(train_public_less['work_year'].median())\n",
    "# pub_dero_bankrup用众数填补\n",
    "train_public_less['pub_dero_bankrup'] = train_public_less['pub_dero_bankrup'].fillna(train_public_less['pub_dero_bankrup'].mode()[0])\n",
    "# f0-f4用平均数填补\n",
    "train_public_less['f0'] = train_public_less['f0'].fillna(train_public_less['f0'].mean())\n",
    "train_public_less['f1'] = train_public_less['f1'].fillna(train_public_less['f1'].mean())\n",
    "train_public_less['f2'] = train_public_less['f2'].fillna(train_public_less['f2'].mean())\n",
    "train_public_less['f3'] = train_public_less['f3'].fillna(train_public_less['f3'].mean())\n",
    "train_public_less['f4'] = train_public_less['f4'].fillna(train_public_less['f4'].mean())"
   ]
  },
  {
   "cell_type": "code",
   "execution_count": 9,
   "id": "a6d70e9d",
   "metadata": {},
   "outputs": [],
   "source": [
    "# 补充train_internet_less的缺失数据\n",
    "# debt_loan_ratio用均值填补\n",
    "train_internet_less['debt_loan_ratio'] = train_internet_less['debt_loan_ratio'].fillna(train_internet_less['debt_loan_ratio'].mean())\n",
    "# pub_dero_bankrup用众数填补\n",
    "train_internet_less['pub_dero_bankrup'] = train_internet_less['pub_dero_bankrup'].fillna(train_internet_less['pub_dero_bankrup'].mode()[0])\n",
    "# post_code用众数填补\n",
    "train_internet_less['post_code'] = train_internet_less['post_code'].fillna(train_internet_less['post_code'].mode()[0])\n",
    "# recircle_u用均值填补\n",
    "train_internet_less['recircle_u'] = train_internet_less['recircle_u'].fillna(train_internet_less['recircle_u'].mean())\n",
    "# f0-f4用平均数填充\n",
    "train_internet_less['f0'] = train_internet_less['f0'].fillna(train_internet_less['f0'].mean())\n",
    "train_internet_less['f1'] = train_internet_less['f1'].fillna(train_internet_less['f1'].mean())\n",
    "train_internet_less['f2'] = train_internet_less['f2'].fillna(train_internet_less['f2'].mean())\n",
    "train_internet_less['f3'] = train_internet_less['f3'].fillna(train_internet_less['f3'].mean())\n",
    "train_internet_less['f4'] = train_internet_less['f4'].fillna(train_internet_less['f4'].mean())\n",
    "# title用众数填充\n",
    "train_internet_less['title'] = train_internet_less['title'].fillna(train_internet_less['title'].mode()[0])"
   ]
  },
  {
   "cell_type": "code",
   "execution_count": 10,
   "id": "e8109b8a",
   "metadata": {},
   "outputs": [],
   "source": [
    "# 补充test_public_less的缺失数据\n",
    "# work_year用中位数填补\n",
    "test_public_less['work_year'] = test_public_less['work_year'].fillna(test_public_less['work_year'].median())\n",
    "# pub_dero_bankrup用众数填补\n",
    "test_public_less['pub_dero_bankrup'] = test_public_less['pub_dero_bankrup'].fillna(test_public_less['pub_dero_bankrup'].mode()[0])\n",
    "# f0-f4用平均数填充\n",
    "test_public_less['f0'] = test_public_less['f0'].fillna(test_public_less['f0'].mean())\n",
    "test_public_less['f1'] = test_public_less['f1'].fillna(test_public_less['f1'].mean())\n",
    "test_public_less['f2'] = test_public_less['f2'].fillna(test_public_less['f2'].mean())\n",
    "test_public_less['f3'] = test_public_less['f3'].fillna(test_public_less['f3'].mean())\n",
    "test_public_less['f4'] = test_public_less['f4'].fillna(test_public_less['f4'].mean())"
   ]
  },
  {
   "cell_type": "code",
   "execution_count": 11,
   "id": "0ed706a3",
   "metadata": {},
   "outputs": [],
   "source": [
    "# 处理类别特征\n",
    "def class_apply(x):\n",
    "    if x == 'A':\n",
    "        return 1\n",
    "    elif x == 'B':\n",
    "        return 2\n",
    "    elif x == 'C':\n",
    "        return 3\n",
    "    elif x == 'D':\n",
    "        return 4\n",
    "    elif x == 'E':\n",
    "        return 5\n",
    "    elif x == 'F':\n",
    "        return 6\n",
    "    elif x == 'G':\n",
    "        return 7\n",
    "    else:\n",
    "        return 0"
   ]
  },
  {
   "cell_type": "code",
   "execution_count": 12,
   "id": "8bda289e",
   "metadata": {},
   "outputs": [],
   "source": [
    "# 'class', 'employer_type', 'industry'三个特征的标签\n",
    "train_public_less['class'] = train_public_less['class'].apply(class_apply)\n",
    "train_internet_less['class'] = train_internet_less['class'].apply(class_apply)\n",
    "test_public_less['class'] = test_public_less['class'].apply(class_apply)"
   ]
  },
  {
   "cell_type": "code",
   "execution_count": 13,
   "id": "86fb04e0",
   "metadata": {},
   "outputs": [],
   "source": [
    "from tensorflow.keras.utils import to_categorical"
   ]
  },
  {
   "cell_type": "code",
   "execution_count": 14,
   "id": "f06f9415",
   "metadata": {},
   "outputs": [],
   "source": [
    "cat_cols = ['employer_type', 'industry']\n",
    "from sklearn.preprocessing import LabelEncoder\n",
    "for col in cat_cols:\n",
    "    lbl = LabelEncoder().fit(train_public_less[col])\n",
    "    train_public_less[col] = lbl.transform(train_public_less[col])\n",
    "    train_internet_less[col] = lbl.transform(train_internet_less[col])\n",
    "    test_public_less[col] = lbl.transform(test_public_less[col])"
   ]
  },
  {
   "cell_type": "code",
   "execution_count": 15,
   "id": "acbb6cc6",
   "metadata": {},
   "outputs": [],
   "source": [
    "# 对employer_type做one-hot编码并加入表格\n",
    "train_public_employer_type = to_categorical(train_public_less['employer_type'])\n",
    "train_public_employer_type = pd.DataFrame(train_public_employer_type)\n",
    "train_public_employer_type.columns=['上市企业','世界五百强','幼教与中小学校','政府机构','普通企业','高等教育机构']\n",
    "train_public_less = train_public_less.join(train_public_employer_type)\n",
    "\n",
    "train_internet_employer_type = to_categorical(train_internet_less['employer_type'])\n",
    "train_internet_employer_type = pd.DataFrame(train_internet_employer_type)\n",
    "train_internet_employer_type.columns=['上市企业','世界五百强','幼教与中小学校','政府机构','普通企业','高等教育机构']\n",
    "train_internet_less = train_internet_less.join(train_internet_employer_type)\n",
    "\n",
    "test_public_employer_type = to_categorical(test_public_less['employer_type'])\n",
    "test_public_employer_type = pd.DataFrame(test_public_employer_type)\n",
    "test_public_employer_type.columns=['上市企业','世界五百强','幼教与中小学校','政府机构','普通企业','高等教育机构']\n",
    "test_public_less = test_public_less.join(test_public_employer_type)"
   ]
  },
  {
   "cell_type": "code",
   "execution_count": 16,
   "id": "32ef06cd",
   "metadata": {},
   "outputs": [],
   "source": [
    "train_public_less['issue_date'] = pd.to_datetime(train_public_less['issue_date'])\n",
    "train_internet_less['issue_date'] = pd.to_datetime(train_internet_less['issue_date'])\n",
    "test_public_less['issue_date'] = pd.to_datetime(test_public_less['issue_date'])\n",
    "\n",
    "train_public_less['issue_date_year'] = pd.to_datetime(train_public_less['issue_date']).dt.year\n",
    "train_internet_less['issue_date_year'] = pd.to_datetime(train_internet_less['issue_date']).dt.year\n",
    "test_public_less['issue_date_year'] = pd.to_datetime(test_public_less['issue_date']).dt.year\n",
    "\n",
    "\n",
    "train_public_less['issue_date_month'] = train_public_less['issue_date'].dt.month\n",
    "train_internet_less['issue_date_month'] = train_internet_less['issue_date'].dt.month\n",
    "test_public_less['issue_date_month'] = test_public_less['issue_date'].dt.month\n",
    "\n",
    "train_public_less['issue_date_dayofweek'] = train_public_less['issue_date'].dt.dayofweek\n",
    "train_internet_less['issue_date_dayofweek'] = train_internet_less['issue_date'].dt.dayofweek\n",
    "test_public_less['issue_date_dayofweek'] = test_public_less['issue_date'].dt.dayofweek\n",
    "\n",
    "train_public_less = train_public_less.drop(columns=['issue_date','earlies_credit_mon'])\n",
    "train_internet_less = train_internet_less.drop(columns=['issue_date','earlies_credit_mon'])\n",
    "test_public_less = test_public_less.drop(columns=['issue_date','earlies_credit_mon'])"
   ]
  },
  {
   "cell_type": "code",
   "execution_count": 17,
   "id": "50ab451c",
   "metadata": {},
   "outputs": [
    {
     "data": {
      "text/plain": [
       "<toad.transform.Combiner at 0x231cd40b4f0>"
      ]
     },
     "execution_count": 17,
     "metadata": {},
     "output_type": "execute_result"
    }
   ],
   "source": [
    "# initialise\n",
    "c = toad.transform.Combiner()\n",
    "\n",
    "box_train = pd.concat([train_public_less, train_internet_less])\n",
    "\n",
    "to_drop = ['loan_id']+['user_id']+['employer_type']+['industry']+['censor_status']+['use']+['post_code']+['region']+['initial_list_status']+['title']+['policy_code']+['上市企业']+['世界五百强']+['幼教与中小学校']+['政府机构']+['普通企业']+['高等教育机构']+['issue_date_year']+['issue_date_month']+['issue_date_dayofweek']\n",
    "\n",
    "# 使用特征筛选后的数据进行训练：使用决策树分箱，规定每箱至少有5%数据, 空值将自动被归到最佳箱。\n",
    "# 卡方分箱特别慢？\n",
    "c.fit(box_train.drop(columns=to_drop), y = 'isDefault', method = 'dt', min_samples = 0.05)"
   ]
  },
  {
   "cell_type": "code",
   "execution_count": 18,
   "id": "df38bd2a",
   "metadata": {},
   "outputs": [],
   "source": [
    "test_public_less = c.transform(test_public_less, labels=False)"
   ]
  },
  {
   "cell_type": "code",
   "execution_count": 19,
   "id": "ad9c8bc8",
   "metadata": {},
   "outputs": [
    {
     "data": {
      "text/plain": [
       "Index(['loan_id', 'user_id', 'total_loan', 'year_of_loan', 'interest',\n",
       "       'monthly_payment', 'class', 'employer_type', 'industry', 'work_year',\n",
       "       'house_exist', 'censor_status', 'use', 'post_code', 'region',\n",
       "       'debt_loan_ratio', 'del_in_18month', 'scoring_low', 'scoring_high',\n",
       "       'pub_dero_bankrup', 'recircle_b', 'recircle_u', 'initial_list_status',\n",
       "       'title', 'policy_code', 'f0', 'f1', 'f2', 'f3', 'f4', 'early_return',\n",
       "       'early_return_amount', 'early_return_amount_3mon', 'isDefault', '上市企业',\n",
       "       '世界五百强', '幼教与中小学校', '政府机构', '普通企业', '高等教育机构', 'issue_date_year',\n",
       "       'issue_date_month', 'issue_date_dayofweek'],\n",
       "      dtype='object')"
      ]
     },
     "execution_count": 19,
     "metadata": {},
     "output_type": "execute_result"
    }
   ],
   "source": [
    "train_public_less.columns"
   ]
  },
  {
   "cell_type": "code",
   "execution_count": 20,
   "id": "def26b01",
   "metadata": {},
   "outputs": [],
   "source": [
    "train_public_less = c.transform(train_public_less, labels=False)\n",
    "train_internet_less = c.transform(train_internet_less, labels=False)"
   ]
  },
  {
   "cell_type": "code",
   "execution_count": 21,
   "id": "330e8091",
   "metadata": {},
   "outputs": [
    {
     "data": {
      "text/html": [
       "<div>\n",
       "<style scoped>\n",
       "    .dataframe tbody tr th:only-of-type {\n",
       "        vertical-align: middle;\n",
       "    }\n",
       "\n",
       "    .dataframe tbody tr th {\n",
       "        vertical-align: top;\n",
       "    }\n",
       "\n",
       "    .dataframe thead th {\n",
       "        text-align: right;\n",
       "    }\n",
       "</style>\n",
       "<table border=\"1\" class=\"dataframe\">\n",
       "  <thead>\n",
       "    <tr style=\"text-align: right;\">\n",
       "      <th></th>\n",
       "      <th>loan_id</th>\n",
       "      <th>user_id</th>\n",
       "      <th>total_loan</th>\n",
       "      <th>year_of_loan</th>\n",
       "      <th>interest</th>\n",
       "      <th>monthly_payment</th>\n",
       "      <th>class</th>\n",
       "      <th>employer_type</th>\n",
       "      <th>industry</th>\n",
       "      <th>work_year</th>\n",
       "      <th>...</th>\n",
       "      <th>isDefault</th>\n",
       "      <th>上市企业</th>\n",
       "      <th>世界五百强</th>\n",
       "      <th>幼教与中小学校</th>\n",
       "      <th>政府机构</th>\n",
       "      <th>普通企业</th>\n",
       "      <th>高等教育机构</th>\n",
       "      <th>issue_date_year</th>\n",
       "      <th>issue_date_month</th>\n",
       "      <th>issue_date_dayofweek</th>\n",
       "    </tr>\n",
       "  </thead>\n",
       "  <tbody>\n",
       "    <tr>\n",
       "      <th>0</th>\n",
       "      <td>1040418</td>\n",
       "      <td>240418</td>\n",
       "      <td>12</td>\n",
       "      <td>0</td>\n",
       "      <td>6</td>\n",
       "      <td>14</td>\n",
       "      <td>2</td>\n",
       "      <td>3</td>\n",
       "      <td>13</td>\n",
       "      <td>3</td>\n",
       "      <td>...</td>\n",
       "      <td>0</td>\n",
       "      <td>0.0</td>\n",
       "      <td>0.0</td>\n",
       "      <td>0.0</td>\n",
       "      <td>1.0</td>\n",
       "      <td>0.0</td>\n",
       "      <td>0.0</td>\n",
       "      <td>2016</td>\n",
       "      <td>10</td>\n",
       "      <td>5</td>\n",
       "    </tr>\n",
       "    <tr>\n",
       "      <th>1</th>\n",
       "      <td>1025197</td>\n",
       "      <td>225197</td>\n",
       "      <td>11</td>\n",
       "      <td>1</td>\n",
       "      <td>12</td>\n",
       "      <td>12</td>\n",
       "      <td>2</td>\n",
       "      <td>3</td>\n",
       "      <td>13</td>\n",
       "      <td>8</td>\n",
       "      <td>...</td>\n",
       "      <td>0</td>\n",
       "      <td>0.0</td>\n",
       "      <td>0.0</td>\n",
       "      <td>0.0</td>\n",
       "      <td>1.0</td>\n",
       "      <td>0.0</td>\n",
       "      <td>0.0</td>\n",
       "      <td>2013</td>\n",
       "      <td>6</td>\n",
       "      <td>5</td>\n",
       "    </tr>\n",
       "    <tr>\n",
       "      <th>2</th>\n",
       "      <td>1009360</td>\n",
       "      <td>209360</td>\n",
       "      <td>9</td>\n",
       "      <td>0</td>\n",
       "      <td>3</td>\n",
       "      <td>11</td>\n",
       "      <td>0</td>\n",
       "      <td>3</td>\n",
       "      <td>3</td>\n",
       "      <td>8</td>\n",
       "      <td>...</td>\n",
       "      <td>0</td>\n",
       "      <td>0.0</td>\n",
       "      <td>0.0</td>\n",
       "      <td>0.0</td>\n",
       "      <td>1.0</td>\n",
       "      <td>0.0</td>\n",
       "      <td>0.0</td>\n",
       "      <td>2014</td>\n",
       "      <td>1</td>\n",
       "      <td>2</td>\n",
       "    </tr>\n",
       "    <tr>\n",
       "      <th>3</th>\n",
       "      <td>1039708</td>\n",
       "      <td>239708</td>\n",
       "      <td>10</td>\n",
       "      <td>0</td>\n",
       "      <td>0</td>\n",
       "      <td>11</td>\n",
       "      <td>0</td>\n",
       "      <td>1</td>\n",
       "      <td>10</td>\n",
       "      <td>6</td>\n",
       "      <td>...</td>\n",
       "      <td>0</td>\n",
       "      <td>0.0</td>\n",
       "      <td>1.0</td>\n",
       "      <td>0.0</td>\n",
       "      <td>0.0</td>\n",
       "      <td>0.0</td>\n",
       "      <td>0.0</td>\n",
       "      <td>2015</td>\n",
       "      <td>7</td>\n",
       "      <td>2</td>\n",
       "    </tr>\n",
       "    <tr>\n",
       "      <th>4</th>\n",
       "      <td>1027483</td>\n",
       "      <td>227483</td>\n",
       "      <td>8</td>\n",
       "      <td>0</td>\n",
       "      <td>8</td>\n",
       "      <td>9</td>\n",
       "      <td>2</td>\n",
       "      <td>3</td>\n",
       "      <td>2</td>\n",
       "      <td>0</td>\n",
       "      <td>...</td>\n",
       "      <td>0</td>\n",
       "      <td>0.0</td>\n",
       "      <td>0.0</td>\n",
       "      <td>0.0</td>\n",
       "      <td>1.0</td>\n",
       "      <td>0.0</td>\n",
       "      <td>0.0</td>\n",
       "      <td>2016</td>\n",
       "      <td>7</td>\n",
       "      <td>4</td>\n",
       "    </tr>\n",
       "    <tr>\n",
       "      <th>...</th>\n",
       "      <td>...</td>\n",
       "      <td>...</td>\n",
       "      <td>...</td>\n",
       "      <td>...</td>\n",
       "      <td>...</td>\n",
       "      <td>...</td>\n",
       "      <td>...</td>\n",
       "      <td>...</td>\n",
       "      <td>...</td>\n",
       "      <td>...</td>\n",
       "      <td>...</td>\n",
       "      <td>...</td>\n",
       "      <td>...</td>\n",
       "      <td>...</td>\n",
       "      <td>...</td>\n",
       "      <td>...</td>\n",
       "      <td>...</td>\n",
       "      <td>...</td>\n",
       "      <td>...</td>\n",
       "      <td>...</td>\n",
       "      <td>...</td>\n",
       "    </tr>\n",
       "    <tr>\n",
       "      <th>9995</th>\n",
       "      <td>1028093</td>\n",
       "      <td>228093</td>\n",
       "      <td>9</td>\n",
       "      <td>0</td>\n",
       "      <td>11</td>\n",
       "      <td>10</td>\n",
       "      <td>1</td>\n",
       "      <td>4</td>\n",
       "      <td>7</td>\n",
       "      <td>7</td>\n",
       "      <td>...</td>\n",
       "      <td>0</td>\n",
       "      <td>0.0</td>\n",
       "      <td>0.0</td>\n",
       "      <td>0.0</td>\n",
       "      <td>0.0</td>\n",
       "      <td>1.0</td>\n",
       "      <td>0.0</td>\n",
       "      <td>2013</td>\n",
       "      <td>11</td>\n",
       "      <td>4</td>\n",
       "    </tr>\n",
       "    <tr>\n",
       "      <th>9996</th>\n",
       "      <td>1043911</td>\n",
       "      <td>243911</td>\n",
       "      <td>6</td>\n",
       "      <td>0</td>\n",
       "      <td>0</td>\n",
       "      <td>9</td>\n",
       "      <td>0</td>\n",
       "      <td>3</td>\n",
       "      <td>4</td>\n",
       "      <td>2</td>\n",
       "      <td>...</td>\n",
       "      <td>0</td>\n",
       "      <td>0.0</td>\n",
       "      <td>0.0</td>\n",
       "      <td>0.0</td>\n",
       "      <td>1.0</td>\n",
       "      <td>0.0</td>\n",
       "      <td>0.0</td>\n",
       "      <td>2015</td>\n",
       "      <td>12</td>\n",
       "      <td>1</td>\n",
       "    </tr>\n",
       "    <tr>\n",
       "      <th>9997</th>\n",
       "      <td>1023503</td>\n",
       "      <td>223503</td>\n",
       "      <td>11</td>\n",
       "      <td>0</td>\n",
       "      <td>10</td>\n",
       "      <td>12</td>\n",
       "      <td>1</td>\n",
       "      <td>4</td>\n",
       "      <td>2</td>\n",
       "      <td>8</td>\n",
       "      <td>...</td>\n",
       "      <td>0</td>\n",
       "      <td>0.0</td>\n",
       "      <td>0.0</td>\n",
       "      <td>0.0</td>\n",
       "      <td>0.0</td>\n",
       "      <td>1.0</td>\n",
       "      <td>0.0</td>\n",
       "      <td>2012</td>\n",
       "      <td>12</td>\n",
       "      <td>5</td>\n",
       "    </tr>\n",
       "    <tr>\n",
       "      <th>9998</th>\n",
       "      <td>1024616</td>\n",
       "      <td>224616</td>\n",
       "      <td>10</td>\n",
       "      <td>0</td>\n",
       "      <td>13</td>\n",
       "      <td>12</td>\n",
       "      <td>3</td>\n",
       "      <td>3</td>\n",
       "      <td>4</td>\n",
       "      <td>8</td>\n",
       "      <td>...</td>\n",
       "      <td>0</td>\n",
       "      <td>0.0</td>\n",
       "      <td>0.0</td>\n",
       "      <td>0.0</td>\n",
       "      <td>1.0</td>\n",
       "      <td>0.0</td>\n",
       "      <td>0.0</td>\n",
       "      <td>2018</td>\n",
       "      <td>3</td>\n",
       "      <td>3</td>\n",
       "    </tr>\n",
       "    <tr>\n",
       "      <th>9999</th>\n",
       "      <td>1021034</td>\n",
       "      <td>221034</td>\n",
       "      <td>0</td>\n",
       "      <td>0</td>\n",
       "      <td>10</td>\n",
       "      <td>0</td>\n",
       "      <td>2</td>\n",
       "      <td>5</td>\n",
       "      <td>2</td>\n",
       "      <td>7</td>\n",
       "      <td>...</td>\n",
       "      <td>0</td>\n",
       "      <td>0.0</td>\n",
       "      <td>0.0</td>\n",
       "      <td>0.0</td>\n",
       "      <td>0.0</td>\n",
       "      <td>0.0</td>\n",
       "      <td>1.0</td>\n",
       "      <td>2017</td>\n",
       "      <td>5</td>\n",
       "      <td>0</td>\n",
       "    </tr>\n",
       "  </tbody>\n",
       "</table>\n",
       "<p>10000 rows × 43 columns</p>\n",
       "</div>"
      ],
      "text/plain": [
       "      loan_id  user_id  total_loan  year_of_loan  interest  monthly_payment  \\\n",
       "0     1040418   240418          12             0         6               14   \n",
       "1     1025197   225197          11             1        12               12   \n",
       "2     1009360   209360           9             0         3               11   \n",
       "3     1039708   239708          10             0         0               11   \n",
       "4     1027483   227483           8             0         8                9   \n",
       "...       ...      ...         ...           ...       ...              ...   \n",
       "9995  1028093   228093           9             0        11               10   \n",
       "9996  1043911   243911           6             0         0                9   \n",
       "9997  1023503   223503          11             0        10               12   \n",
       "9998  1024616   224616          10             0        13               12   \n",
       "9999  1021034   221034           0             0        10                0   \n",
       "\n",
       "      class  employer_type  industry  work_year  ...  isDefault  上市企业  世界五百强  \\\n",
       "0         2              3        13          3  ...          0   0.0    0.0   \n",
       "1         2              3        13          8  ...          0   0.0    0.0   \n",
       "2         0              3         3          8  ...          0   0.0    0.0   \n",
       "3         0              1        10          6  ...          0   0.0    1.0   \n",
       "4         2              3         2          0  ...          0   0.0    0.0   \n",
       "...     ...            ...       ...        ...  ...        ...   ...    ...   \n",
       "9995      1              4         7          7  ...          0   0.0    0.0   \n",
       "9996      0              3         4          2  ...          0   0.0    0.0   \n",
       "9997      1              4         2          8  ...          0   0.0    0.0   \n",
       "9998      3              3         4          8  ...          0   0.0    0.0   \n",
       "9999      2              5         2          7  ...          0   0.0    0.0   \n",
       "\n",
       "      幼教与中小学校  政府机构  普通企业  高等教育机构  issue_date_year  issue_date_month  \\\n",
       "0         0.0   1.0   0.0     0.0             2016                10   \n",
       "1         0.0   1.0   0.0     0.0             2013                 6   \n",
       "2         0.0   1.0   0.0     0.0             2014                 1   \n",
       "3         0.0   0.0   0.0     0.0             2015                 7   \n",
       "4         0.0   1.0   0.0     0.0             2016                 7   \n",
       "...       ...   ...   ...     ...              ...               ...   \n",
       "9995      0.0   0.0   1.0     0.0             2013                11   \n",
       "9996      0.0   1.0   0.0     0.0             2015                12   \n",
       "9997      0.0   0.0   1.0     0.0             2012                12   \n",
       "9998      0.0   1.0   0.0     0.0             2018                 3   \n",
       "9999      0.0   0.0   0.0     1.0             2017                 5   \n",
       "\n",
       "      issue_date_dayofweek  \n",
       "0                        5  \n",
       "1                        5  \n",
       "2                        2  \n",
       "3                        2  \n",
       "4                        4  \n",
       "...                    ...  \n",
       "9995                     4  \n",
       "9996                     1  \n",
       "9997                     5  \n",
       "9998                     3  \n",
       "9999                     0  \n",
       "\n",
       "[10000 rows x 43 columns]"
      ]
     },
     "execution_count": 21,
     "metadata": {},
     "output_type": "execute_result"
    }
   ],
   "source": [
    "train_public_less"
   ]
  },
  {
   "cell_type": "code",
   "execution_count": 22,
   "id": "bce62428",
   "metadata": {},
   "outputs": [
    {
     "data": {
      "text/plain": [
       "Index(['loan_id', 'user_id', 'total_loan', 'year_of_loan', 'interest',\n",
       "       'monthly_payment', 'class', 'employer_type', 'industry', 'work_year',\n",
       "       'house_exist', 'censor_status', 'use', 'post_code', 'region',\n",
       "       'debt_loan_ratio', 'del_in_18month', 'scoring_low', 'scoring_high',\n",
       "       'pub_dero_bankrup', 'recircle_b', 'recircle_u', 'initial_list_status',\n",
       "       'title', 'policy_code', 'f0', 'f1', 'f2', 'f3', 'f4', 'early_return',\n",
       "       'early_return_amount', 'early_return_amount_3mon', 'isDefault', '上市企业',\n",
       "       '世界五百强', '幼教与中小学校', '政府机构', '普通企业', '高等教育机构', 'issue_date_year',\n",
       "       'issue_date_month', 'issue_date_dayofweek'],\n",
       "      dtype='object')"
      ]
     },
     "execution_count": 22,
     "metadata": {},
     "output_type": "execute_result"
    }
   ],
   "source": [
    "train_public_less.columns"
   ]
  },
  {
   "cell_type": "code",
   "execution_count": 23,
   "id": "e5016df1",
   "metadata": {},
   "outputs": [],
   "source": [
    "# 去除非数值类型特征\n",
    "# drop_cols = list(train_public_less.select_dtypes('object').columns) + ['isDefault']\n",
    "drop_cols = ['employer_type'] + ['isDefault']\n",
    "\n",
    "# 构造模型数据\n",
    "X_train = train_public_less.drop(columns=drop_cols).values\n",
    "y_train = train_public_less['isDefault'].values\n",
    "\n",
    "X_internet = train_internet_less.drop(columns=drop_cols).values\n",
    "y_internet = train_internet_less['isDefault'].values\n",
    "\n",
    "X_test = test_public_less.drop(columns=drop_cols[:-1]).values"
   ]
  },
  {
   "cell_type": "code",
   "execution_count": 24,
   "id": "e47f0450",
   "metadata": {},
   "outputs": [
    {
     "data": {
      "text/plain": [
       "['employer_type', 'isDefault']"
      ]
     },
     "execution_count": 24,
     "metadata": {},
     "output_type": "execute_result"
    }
   ],
   "source": [
    "drop_cols"
   ]
  },
  {
   "cell_type": "code",
   "execution_count": 25,
   "id": "48e3da5f",
   "metadata": {},
   "outputs": [
    {
     "name": "stderr",
     "output_type": "stream",
     "text": [
      "train k fold 1:0.8826872996794871\n",
      "train k fold 2:0.8742416437728938\n",
      "train k fold 3:0.8764897016760314\n",
      "train k fold 4:0.8806739812751258\n",
      "train k fold 5:0.87631483625995\n",
      "[0.8826873  0.87424164 0.8764897  0.88067398 0.87631484]\n",
      "0.8780814925326975\n"
     ]
    }
   ],
   "source": [
    "skf = StratifiedKFold(n_splits=5, random_state=1, shuffle=True)\n",
    "count = 0\n",
    "scores = []\n",
    "clf = LGBMClassifier(num_leaves=32, random_state=1, max_depth=5, n_estimators=100, metric='auc')\n",
    "# 两个表一起测\n",
    "for train_index, valid_index in skf.split(X_train, y_train):\n",
    "    count += 1\n",
    "    X_more, X_less = X_train[train_index], X_train[valid_index]\n",
    "    y_more, y_less = y_train[train_index], y_train[valid_index]\n",
    "    X_more_internet = np.concatenate([X_more, X_internet])\n",
    "    y_more_internet = np.concatenate([y_more, y_internet])\n",
    "    clf.fit(X_more_internet, y_more_internet, eval_metric='auc')\n",
    "    y_proba = clf.predict_proba(X_less)[:, 1]\n",
    "    score = roc_auc_score(y_less, y_proba)\n",
    "    scores.append(score)\n",
    "    logger.info(f'train k fold {count}:{score}')\n",
    "scores = np.array(scores)\n",
    "logger.info(scores)\n",
    "logger.info(scores.mean())"
   ]
  },
  {
   "cell_type": "code",
   "execution_count": 26,
   "id": "7dae7e7c",
   "metadata": {},
   "outputs": [],
   "source": [
    "# 合并两个数据集\n",
    "X_final_train = np.concatenate([X_train, X_internet])\n",
    "y_final_train = np.concatenate([y_train, y_internet])"
   ]
  },
  {
   "cell_type": "code",
   "execution_count": 27,
   "id": "263cb363",
   "metadata": {},
   "outputs": [],
   "source": [
    "# 测试集\n",
    "clf_ex = LGBMClassifier(num_leaves=32, random_state=1, max_depth=5, n_estimators=100, metric='auc')\n",
    "clf_ex.fit(X_final_train, y_final_train, eval_metric='auc')\n",
    "y_proba = clf_ex.predict_proba(X_test)[:, 1]"
   ]
  },
  {
   "cell_type": "code",
   "execution_count": 28,
   "id": "537d7777",
   "metadata": {},
   "outputs": [],
   "source": [
    "submission = pd.DataFrame({'id': test_public['loan_id'], 'isDefault': y_proba})\n",
    "submission.to_csv('submission.csv', index=None)"
   ]
  },
  {
   "cell_type": "code",
   "execution_count": 29,
   "id": "f2297fd9",
   "metadata": {},
   "outputs": [
    {
     "data": {
      "text/plain": [
       "array([199,  54, 102,  80, 228,  89, 102,  11,  78, 107,  29,  40, 105,\n",
       "       124, 141,  16, 114,  20,  15, 131,  49,   1,  76,   0, 131,  30,\n",
       "       119,  84,  48,  15,  90,  17,  11,  31,  13,  78,  68,  50, 245,\n",
       "       104,  13])"
      ]
     },
     "execution_count": 29,
     "metadata": {},
     "output_type": "execute_result"
    }
   ],
   "source": [
    "clf_ex.feature_importances_"
   ]
  },
  {
   "cell_type": "code",
   "execution_count": 43,
   "id": "23396b63",
   "metadata": {},
   "outputs": [
    {
     "data": {
      "text/plain": [
       "Index(['loan_id', 'user_id', 'total_loan', 'year_of_loan', 'interest',\n",
       "       'monthly_payment', 'class', 'employer_type', 'industry', 'work_year',\n",
       "       'house_exist', 'censor_status', 'issue_date', 'use', 'post_code',\n",
       "       'region', 'debt_loan_ratio', 'del_in_18month', 'scoring_low',\n",
       "       'scoring_high', 'pub_dero_bankrup', 'recircle_b', 'recircle_u',\n",
       "       'initial_list_status', 'earlies_credit_mon', 'title', 'policy_code',\n",
       "       'f0', 'f1', 'f2', 'f3', 'f4', 'early_return', 'early_return_amount',\n",
       "       'early_return_amount_3mon', 'isDefault', '上市企业', '世界五百强', '幼教与中小学校',\n",
       "       '政府机构', '普通企业', '高等教育机构', 'issue_date_year', 'issue_date_month',\n",
       "       'issue_date_dayofweek', 'stable_factor'],\n",
       "      dtype='object')"
      ]
     },
     "execution_count": 43,
     "metadata": {},
     "output_type": "execute_result"
    }
   ],
   "source": [
    "train_public_less.columns"
   ]
  },
  {
   "cell_type": "code",
   "execution_count": null,
   "id": "2a0dad52",
   "metadata": {},
   "outputs": [],
   "source": []
  },
  {
   "cell_type": "code",
   "execution_count": null,
   "id": "6b2d227a",
   "metadata": {},
   "outputs": [],
   "source": []
  }
 ],
 "metadata": {
  "kernelspec": {
   "display_name": "pytorch",
   "language": "python",
   "name": "pytorch"
  },
  "language_info": {
   "codemirror_mode": {
    "name": "ipython",
    "version": 3
   },
   "file_extension": ".py",
   "mimetype": "text/x-python",
   "name": "python",
   "nbconvert_exporter": "python",
   "pygments_lexer": "ipython3",
   "version": "3.8.10"
  }
 },
 "nbformat": 4,
 "nbformat_minor": 5
}
