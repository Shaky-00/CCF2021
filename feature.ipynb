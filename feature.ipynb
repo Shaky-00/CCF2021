{
 "cells": [
  {
   "cell_type": "code",
   "execution_count": 1,
   "id": "da53df0b",
   "metadata": {},
   "outputs": [],
   "source": [
    "import logging\n",
    "\n",
    "import numpy as np\n",
    "import toad\n",
    "import pandas as pd\n",
    "from sklearn.model_selection import StratifiedKFold, ParameterGrid\n",
    "from sklearn.metrics import roc_auc_score\n",
    "from lightgbm import LGBMClassifier\n",
    "\n",
    "import config"
   ]
  },
  {
   "cell_type": "code",
   "execution_count": 2,
   "id": "7512cb0c",
   "metadata": {},
   "outputs": [],
   "source": [
    "logger = logging.getLogger(__name__)\n",
    "logger.setLevel(logging.DEBUG)\n",
    "formatter = logging.Formatter()\n",
    "sh = logging.StreamHandler()\n",
    "sh.setFormatter(formatter)\n",
    "logger.addHandler(sh)\n",
    "\n",
    "is_eda = False\n",
    "is_gridsearch = False"
   ]
  },
  {
   "cell_type": "code",
   "execution_count": 3,
   "id": "6f20a618",
   "metadata": {},
   "outputs": [],
   "source": [
    "# 读数据\n",
    "train_public = pd.read_csv(config.TRAIN_PUBLIC_PATH)\n",
    "train_internet = pd.read_csv(config.TRAIN_INTERNET_PATH)\n",
    "test_public = pd.read_csv(config.TEST_PUBLIC_PATH)"
   ]
  },
  {
   "cell_type": "code",
   "execution_count": 4,
   "id": "6cab834c",
   "metadata": {},
   "outputs": [],
   "source": [
    "# 标签列重命名\n",
    "train_internet = train_internet.rename(columns={'is_default': 'isDefault'})"
   ]
  },
  {
   "cell_type": "code",
   "execution_count": 5,
   "id": "51a8d289",
   "metadata": {},
   "outputs": [],
   "source": [
    "# 缺失值求平均，work_year先转换然后再平均\n",
    "def work_year_apply(x):\n",
    "    if x == '< 1 year':\n",
    "        return 1\n",
    "    elif x == '1 year':\n",
    "        return 2\n",
    "    elif x == '2 years':\n",
    "        return 3\n",
    "    elif x == '3 years':\n",
    "        return 4\n",
    "    elif x == '4 years':\n",
    "        return 5\n",
    "    elif x == '5 years':\n",
    "        return 6\n",
    "    elif x == '6 years':\n",
    "        return 7\n",
    "    elif x == '7 years':\n",
    "        return 8\n",
    "    elif x == '8 years':\n",
    "        return 9\n",
    "    elif x == '9 years':\n",
    "        return 10\n",
    "    elif x == '10+ years':\n",
    "        return 11"
   ]
  },
  {
   "cell_type": "code",
   "execution_count": 6,
   "id": "9357ef35",
   "metadata": {},
   "outputs": [],
   "source": [
    "# 对work_year的转换处理\n",
    "train_public['work_year'] = train_public['work_year'].apply(work_year_apply)\n",
    "train_internet['work_year'] = train_internet['work_year'].apply(work_year_apply)\n",
    "test_public['work_year'] = test_public['work_year'].apply(work_year_apply)\n",
    "\n",
    "train_internet['work_year'] = train_internet['work_year'].fillna(train_internet['work_year'].median())\n",
    "test_public['work_year'] = test_public['work_year'].fillna(test_public['work_year'].median())"
   ]
  },
  {
   "cell_type": "code",
   "execution_count": 7,
   "id": "c88ef705",
   "metadata": {},
   "outputs": [
    {
     "name": "stderr",
     "output_type": "stream",
     "text": [
      "36\n"
     ]
    }
   ],
   "source": [
    "# 特征工程\n",
    "## 找相同的特征\n",
    "common_cols = []\n",
    "for col in train_public.columns:\n",
    "    if col in train_internet.columns:\n",
    "        common_cols.append(col)\n",
    "logger.info(len(common_cols))\n",
    "\n",
    "## 只取相同的列\n",
    "train_public_less = train_public.loc[:, common_cols]\n",
    "train_internet_less = train_internet.loc[:, common_cols]\n",
    "test_public_less = test_public.loc[:, common_cols[:-1]]"
   ]
  },
  {
   "cell_type": "code",
   "execution_count": 8,
   "id": "fd9e0e45",
   "metadata": {},
   "outputs": [],
   "source": [
    "# 补充train_public_less的缺失数据\n",
    "# work_year用中位数填补\n",
    "train_public_less['work_year'] = train_public_less['work_year'].fillna(train_public_less['work_year'].median())\n",
    "# pub_dero_bankrup用众数填补\n",
    "train_public_less['pub_dero_bankrup'] = train_public_less['pub_dero_bankrup'].fillna(train_public_less['pub_dero_bankrup'].mode()[0])\n",
    "# f0-f4用平均数填补\n",
    "train_public_less['f0'] = train_public_less['f0'].fillna(train_public_less['f0'].mean())\n",
    "train_public_less['f1'] = train_public_less['f1'].fillna(train_public_less['f1'].mean())\n",
    "train_public_less['f2'] = train_public_less['f2'].fillna(train_public_less['f2'].mean())\n",
    "train_public_less['f3'] = train_public_less['f3'].fillna(train_public_less['f3'].mean())\n",
    "train_public_less['f4'] = train_public_less['f4'].fillna(train_public_less['f4'].mean())"
   ]
  },
  {
   "cell_type": "code",
   "execution_count": 9,
   "id": "a6d70e9d",
   "metadata": {},
   "outputs": [],
   "source": [
    "# 补充train_internet_less的缺失数据\n",
    "# debt_loan_ratio用均值填补\n",
    "train_internet_less['debt_loan_ratio'] = train_internet_less['debt_loan_ratio'].fillna(train_internet_less['debt_loan_ratio'].mean())\n",
    "# pub_dero_bankrup用众数填补\n",
    "train_internet_less['pub_dero_bankrup'] = train_internet_less['pub_dero_bankrup'].fillna(train_internet_less['pub_dero_bankrup'].mode()[0])\n",
    "# post_code用众数填补\n",
    "train_internet_less['post_code'] = train_internet_less['post_code'].fillna(train_internet_less['post_code'].mode()[0])\n",
    "# recircle_u用均值填补\n",
    "train_internet_less['recircle_u'] = train_internet_less['recircle_u'].fillna(train_internet_less['recircle_u'].mean())\n",
    "# f0-f4用平均数填充\n",
    "train_internet_less['f0'] = train_internet_less['f0'].fillna(train_internet_less['f0'].mean())\n",
    "train_internet_less['f1'] = train_internet_less['f1'].fillna(train_internet_less['f1'].mean())\n",
    "train_internet_less['f2'] = train_internet_less['f2'].fillna(train_internet_less['f2'].mean())\n",
    "train_internet_less['f3'] = train_internet_less['f3'].fillna(train_internet_less['f3'].mean())\n",
    "train_internet_less['f4'] = train_internet_less['f4'].fillna(train_internet_less['f4'].mean())\n",
    "# title用众数填充\n",
    "train_internet_less['title'] = train_internet_less['title'].fillna(train_internet_less['title'].mode()[0])"
   ]
  },
  {
   "cell_type": "code",
   "execution_count": 10,
   "id": "e8109b8a",
   "metadata": {},
   "outputs": [],
   "source": [
    "# 补充test_public_less的缺失数据\n",
    "# work_year用中位数填补\n",
    "test_public_less['work_year'] = test_public_less['work_year'].fillna(test_public_less['work_year'].median())\n",
    "# pub_dero_bankrup用众数填补\n",
    "test_public_less['pub_dero_bankrup'] = test_public_less['pub_dero_bankrup'].fillna(test_public_less['pub_dero_bankrup'].mode()[0])\n",
    "# f0-f4用平均数填充\n",
    "test_public_less['f0'] = test_public_less['f0'].fillna(test_public_less['f0'].mean())\n",
    "test_public_less['f1'] = test_public_less['f1'].fillna(test_public_less['f1'].mean())\n",
    "test_public_less['f2'] = test_public_less['f2'].fillna(test_public_less['f2'].mean())\n",
    "test_public_less['f3'] = test_public_less['f3'].fillna(test_public_less['f3'].mean())\n",
    "test_public_less['f4'] = test_public_less['f4'].fillna(test_public_less['f4'].mean())"
   ]
  },
  {
   "cell_type": "code",
   "execution_count": 11,
   "id": "0ed706a3",
   "metadata": {},
   "outputs": [],
   "source": [
    "# 处理类别特征\n",
    "def class_apply(x):\n",
    "    if x == 'A':\n",
    "        return 1\n",
    "    elif x == 'B':\n",
    "        return 2\n",
    "    elif x == 'C':\n",
    "        return 3\n",
    "    elif x == 'D':\n",
    "        return 4\n",
    "    elif x == 'E':\n",
    "        return 5\n",
    "    elif x == 'F':\n",
    "        return 6\n",
    "    elif x == 'G':\n",
    "        return 7\n",
    "    else:\n",
    "        return 0\n",
    "\n",
    "\n",
    "# def employer_type_apply(x):\n",
    "#     if x == '普通企业':\n",
    "#         return 1\n",
    "#     elif x == '幼教与中小学校':\n",
    "#         return 2\n",
    "#     elif x == '高等教育机构':\n",
    "#         return 3\n",
    "#     elif x == '政府机构':\n",
    "#         return 4\n",
    "#     elif x == '上市企业':\n",
    "#         return 5\n",
    "#     elif x == '世界五百强':\n",
    "#         return 6\n",
    "#     else:\n",
    "#         return 0\n",
    "\n",
    "\n",
    "\n",
    "# def industry_apply(x):\n",
    "#     if x == '金融业':\n",
    "#         return 1\n",
    "#     elif x == '公共服务、社会组织':\n",
    "#         return 2\n",
    "#     elif x == '文化和体育业':\n",
    "#         return 3\n",
    "#     elif x == '信息传输、软件和信息技术服务业':\n",
    "#         return 4\n",
    "#     elif x == '制造业':\n",
    "#         return 5\n",
    "#     elif x == '住宿和餐饮业':\n",
    "#         return 6\n",
    "#     elif x == '建筑业':\n",
    "#         return 7\n",
    "#     elif x == '电力、热力生产供应业':\n",
    "#         return 8\n",
    "#     elif x == '房地产业':\n",
    "#         return 9\n",
    "#     elif x == '交通运输、仓储和邮政业':\n",
    "#         return 10\n",
    "#     elif x == '批发和零售业':\n",
    "#         return 11\n",
    "#     elif x == '农、林、牧、渔业':\n",
    "#         return 12\n",
    "#     elif x == '采矿业':\n",
    "#         return 13\n",
    "#     elif x == '国际组织':\n",
    "#         return 14\n",
    "#     else:\n",
    "#         return 0"
   ]
  },
  {
   "cell_type": "code",
   "execution_count": 12,
   "id": "8bda289e",
   "metadata": {},
   "outputs": [],
   "source": [
    "# 'class', 'employer_type', 'industry'三个特征的标签\n",
    "train_public_less['class'] = train_public_less['class'].apply(class_apply)\n",
    "# train_public_less['employer_type'] = train_public_less['employer_type'].apply(employer_type_apply)\n",
    "# train_public_less['industry'] = train_public_less['industry'].apply(industry_apply)\n",
    "\n",
    "train_internet_less['class'] = train_internet_less['class'].apply(class_apply)\n",
    "# train_internet_less['employer_type'] = train_internet_less['employer_type'].apply(employer_type_apply)\n",
    "# train_internet_less['industry'] = train_internet_less['industry'].apply(industry_apply)\n",
    "\n",
    "test_public_less['class'] = test_public_less['class'].apply(class_apply)\n",
    "# test_public_less['employer_type'] = test_public_less['employer_type'].apply(employer_type_apply)\n",
    "# test_public_less['industry'] = test_public_less['industry'].apply(industry_apply)"
   ]
  },
  {
   "cell_type": "code",
   "execution_count": 13,
   "id": "86fb04e0",
   "metadata": {},
   "outputs": [],
   "source": [
    "from tensorflow.keras.utils import to_categorical"
   ]
  },
  {
   "cell_type": "code",
   "execution_count": 14,
   "id": "f06f9415",
   "metadata": {},
   "outputs": [],
   "source": [
    "cat_cols = ['employer_type', 'industry']\n",
    "from sklearn.preprocessing import LabelEncoder\n",
    "for col in cat_cols:\n",
    "    lbl = LabelEncoder().fit(train_public_less[col])\n",
    "    train_public_less[col] = lbl.transform(train_public_less[col])\n",
    "    train_internet_less[col] = lbl.transform(train_internet_less[col])\n",
    "    test_public_less[col] = lbl.transform(test_public_less[col])"
   ]
  },
  {
   "cell_type": "code",
   "execution_count": 15,
   "id": "acbb6cc6",
   "metadata": {},
   "outputs": [],
   "source": [
    "# 对employer_type做one-hot编码并加入表格\n",
    "train_public_employer_type = to_categorical(train_public_less['employer_type'])\n",
    "train_public_employer_type = pd.DataFrame(train_public_employer_type)\n",
    "train_public_employer_type.columns=['上市企业','世界五百强','幼教与中小学校','政府机构','普通企业','高等教育机构']\n",
    "train_public_less = train_public_less.join(train_public_employer_type)\n",
    "\n",
    "train_internet_employer_type = to_categorical(train_internet_less['employer_type'])\n",
    "train_internet_employer_type = pd.DataFrame(train_internet_employer_type)\n",
    "train_internet_employer_type.columns=['上市企业','世界五百强','幼教与中小学校','政府机构','普通企业','高等教育机构']\n",
    "train_internet_less = train_internet_less.join(train_internet_employer_type)\n",
    "\n",
    "test_public_employer_type = to_categorical(test_public_less['employer_type'])\n",
    "test_public_employer_type = pd.DataFrame(test_public_employer_type)\n",
    "test_public_employer_type.columns=['上市企业','世界五百强','幼教与中小学校','政府机构','普通企业','高等教育机构']\n",
    "test_public_less = test_public_less.join(test_public_employer_type)"
   ]
  },
  {
   "cell_type": "code",
   "execution_count": 16,
   "id": "6563308d",
   "metadata": {},
   "outputs": [],
   "source": [
    "# 对industry做one-hot编码并加入表格\n",
    "train_public_industry = to_categorical(train_public_less['industry'])\n",
    "train_public_industry = pd.DataFrame(train_public_industry)\n",
    "# train_public_industry.columns=['上市企业','世界五百强','幼教与中小学校','政府机构','普通企业','高等教育机构']\n",
    "train_public_less = train_public_less.join(train_public_industry)\n",
    "\n",
    "train_internet_industry = to_categorical(train_internet_less['industry'])\n",
    "train_internet_industry = pd.DataFrame(train_internet_industry)\n",
    "# train_public_industry.columns=['上市企业','世界五百强','幼教与中小学校','政府机构','普通企业','高等教育机构']\n",
    "train_internet_less = train_internet_less.join(train_internet_industry)\n",
    "\n",
    "test_public_industry = to_categorical(test_public_less['industry'])\n",
    "test_public_industry = pd.DataFrame(test_public_industry)\n",
    "# train_public_industry.columns=['上市企业','世界五百强','幼教与中小学校','政府机构','普通企业','高等教育机构']\n",
    "test_public_less = test_public_less.join(test_public_industry)"
   ]
  },
  {
   "cell_type": "code",
   "execution_count": 17,
   "id": "32ef06cd",
   "metadata": {},
   "outputs": [],
   "source": [
    "train_public_less['issue_date'] = pd.to_datetime(train_public_less['issue_date'])\n",
    "train_internet_less['issue_date'] = pd.to_datetime(train_internet_less['issue_date'])\n",
    "test_public_less['issue_date'] = pd.to_datetime(test_public_less['issue_date'])\n",
    "\n",
    "train_public_less['issue_date_year'] = pd.to_datetime(train_public_less['issue_date']).dt.year\n",
    "train_internet_less['issue_date_year'] = pd.to_datetime(train_internet_less['issue_date']).dt.year\n",
    "test_public_less['issue_date_year'] = pd.to_datetime(test_public_less['issue_date']).dt.year\n",
    "\n",
    "\n",
    "train_public_less['issue_date_month'] = train_public_less['issue_date'].dt.month\n",
    "train_internet_less['issue_date_month'] = train_internet_less['issue_date'].dt.month\n",
    "test_public_less['issue_date_month'] = test_public_less['issue_date'].dt.month\n",
    "\n",
    "train_public_less['issue_date_dayofweek'] = train_public_less['issue_date'].dt.dayofweek\n",
    "train_internet_less['issue_date_dayofweek'] = train_internet_less['issue_date'].dt.dayofweek\n",
    "test_public_less['issue_date_dayofweek'] = test_public_less['issue_date'].dt.dayofweek"
   ]
  },
  {
   "cell_type": "code",
   "execution_count": 18,
   "id": "e5016df1",
   "metadata": {},
   "outputs": [],
   "source": [
    "# 去除非数值类型特征\n",
    "# drop_cols = list(train_public_less.select_dtypes('object').columns) + ['isDefault']\n",
    "drop_cols = ['employer_type'] + ['industry'] + ['issue_date'] + ['earlies_credit_mon'] + ['isDefault']\n",
    "\n",
    "# 构造模型数据\n",
    "X_train = train_public_less.drop(columns=drop_cols).values\n",
    "y_train = train_public_less['isDefault'].values\n",
    "\n",
    "X_internet = train_internet_less.drop(columns=drop_cols).values\n",
    "y_internet = train_internet_less['isDefault'].values\n",
    "\n",
    "X_test = test_public_less.drop(columns=drop_cols[:-1]).values"
   ]
  },
  {
   "cell_type": "code",
   "execution_count": 19,
   "id": "e47f0450",
   "metadata": {},
   "outputs": [
    {
     "data": {
      "text/plain": [
       "['employer_type', 'industry', 'issue_date', 'earlies_credit_mon', 'isDefault']"
      ]
     },
     "execution_count": 19,
     "metadata": {},
     "output_type": "execute_result"
    }
   ],
   "source": [
    "drop_cols"
   ]
  },
  {
   "cell_type": "code",
   "execution_count": 20,
   "id": "eaaf8b73",
   "metadata": {},
   "outputs": [
    {
     "data": {
      "text/plain": [
       "(10000, 59)"
      ]
     },
     "execution_count": 20,
     "metadata": {},
     "output_type": "execute_result"
    }
   ],
   "source": [
    "train_public_less.shape"
   ]
  },
  {
   "cell_type": "code",
   "execution_count": 21,
   "id": "c42ae81d",
   "metadata": {},
   "outputs": [
    {
     "data": {
      "text/plain": [
       "(750000, 59)"
      ]
     },
     "execution_count": 21,
     "metadata": {},
     "output_type": "execute_result"
    }
   ],
   "source": [
    "train_internet_less.shape"
   ]
  },
  {
   "cell_type": "code",
   "execution_count": 26,
   "id": "48e3da5f",
   "metadata": {},
   "outputs": [
    {
     "name": "stderr",
     "output_type": "stream",
     "text": [
      "train k fold 1:0.8867527329441391\n",
      "train k fold 2:0.8685486063415752\n",
      "train k fold 3:0.8748695200658065\n",
      "train k fold 4:0.8826260503077098\n",
      "train k fold 5:0.874551907371291\n",
      "[0.88675273 0.86854861 0.87486952 0.88262605 0.87455191]\n",
      "0.8774697634061044\n"
     ]
    }
   ],
   "source": [
    "skf = StratifiedKFold(n_splits=5, random_state=1, shuffle=True)\n",
    "count = 0\n",
    "scores = []\n",
    "clf = LGBMClassifier(num_leaves=32, random_state=1, max_depth=6, n_estimators=100, metric='auc')\n",
    "# 两个表一起测\n",
    "for train_index, valid_index in skf.split(X_train, y_train):\n",
    "    count += 1\n",
    "    X_more, X_less = X_train[train_index], X_train[valid_index]\n",
    "    y_more, y_less = y_train[train_index], y_train[valid_index]\n",
    "    X_more_internet = np.concatenate([X_more, X_internet])\n",
    "    y_more_internet = np.concatenate([y_more, y_internet])\n",
    "    clf.fit(X_more_internet, y_more_internet, eval_metric='auc')\n",
    "    y_proba = clf.predict_proba(X_less)[:, 1]\n",
    "    score = roc_auc_score(y_less, y_proba)\n",
    "    scores.append(score)\n",
    "    logger.info(f'train k fold {count}:{score}')\n",
    "scores = np.array(scores)\n",
    "logger.info(scores)\n",
    "logger.info(scores.mean())"
   ]
  },
  {
   "cell_type": "code",
   "execution_count": 27,
   "id": "7dae7e7c",
   "metadata": {},
   "outputs": [],
   "source": [
    "# 合并两个数据集\n",
    "X_final_train = np.concatenate([X_train, X_internet])\n",
    "y_final_train = np.concatenate([y_train, y_internet])"
   ]
  },
  {
   "cell_type": "code",
   "execution_count": 28,
   "id": "263cb363",
   "metadata": {},
   "outputs": [],
   "source": [
    "# 测试集\n",
    "clf_ex = LGBMClassifier(num_leaves=32, random_state=1, max_depth=6, n_estimators=100, metric='auc')\n",
    "clf_ex.fit(X_final_train, y_final_train, eval_metric='auc')\n",
    "y_proba = clf_ex.predict_proba(X_test)[:, 1]"
   ]
  },
  {
   "cell_type": "code",
   "execution_count": 29,
   "id": "537d7777",
   "metadata": {},
   "outputs": [],
   "source": [
    "submission = pd.DataFrame({'id': test_public['loan_id'], 'isDefault': y_proba})\n",
    "submission.to_csv('submission.csv', index=None)"
   ]
  },
  {
   "cell_type": "code",
   "execution_count": null,
   "id": "281ae243",
   "metadata": {},
   "outputs": [],
   "source": []
  }
 ],
 "metadata": {
  "kernelspec": {
   "display_name": "pytorch",
   "language": "python",
   "name": "pytorch"
  },
  "language_info": {
   "codemirror_mode": {
    "name": "ipython",
    "version": 3
   },
   "file_extension": ".py",
   "mimetype": "text/x-python",
   "name": "python",
   "nbconvert_exporter": "python",
   "pygments_lexer": "ipython3",
   "version": "3.8.10"
  }
 },
 "nbformat": 4,
 "nbformat_minor": 5
}
